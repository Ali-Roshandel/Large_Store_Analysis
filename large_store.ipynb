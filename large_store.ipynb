{
 "cells": [
  {
   "metadata": {},
   "cell_type": "markdown",
   "source": "# 1- Importing Libraries",
   "id": "6093278b774aa34a"
  },
  {
   "metadata": {
    "ExecuteTime": {
     "end_time": "2025-04-26T17:31:38.067936Z",
     "start_time": "2025-04-26T17:31:38.057198Z"
    }
   },
   "cell_type": "code",
   "source": [
    "import pandas as pd\n",
    "import matplotlib.pyplot as plt\n",
    "import seaborn as sns\n",
    "import numpy as np"
   ],
   "id": "35759f48abacc510",
   "outputs": [],
   "execution_count": 60
  },
  {
   "metadata": {},
   "cell_type": "markdown",
   "source": "# 2- Loading Data And Initial Check",
   "id": "eb9c5613e0a70b44"
  },
  {
   "metadata": {
    "ExecuteTime": {
     "end_time": "2025-04-26T17:31:38.123106Z",
     "start_time": "2025-04-26T17:31:38.098287Z"
    }
   },
   "cell_type": "code",
   "source": "df = pd.read_csv('large_store_sales.csv')",
   "id": "9bbdcef2375b72ea",
   "outputs": [],
   "execution_count": 61
  },
  {
   "metadata": {
    "ExecuteTime": {
     "end_time": "2025-04-26T17:31:38.148885Z",
     "start_time": "2025-04-26T17:31:38.138452Z"
    }
   },
   "cell_type": "code",
   "source": "df.head()",
   "id": "d6db33a341b01c5e",
   "outputs": [
    {
     "data": {
      "text/plain": [
       "         Date CustomerID  Product  Quantity    Price\n",
       "0  2023-04-13      C0402    Phone         3  1718.34\n",
       "1  2023-12-15      C0606   Camera         1  1545.59\n",
       "2  2023-09-28      C0229  Monitor         5  1846.37\n",
       "3  2023-04-17      C0537   Laptop         4   193.12\n",
       "4  2023-03-13      C0268   Camera         1   195.23"
      ],
      "text/html": [
       "<div>\n",
       "<style scoped>\n",
       "    .dataframe tbody tr th:only-of-type {\n",
       "        vertical-align: middle;\n",
       "    }\n",
       "\n",
       "    .dataframe tbody tr th {\n",
       "        vertical-align: top;\n",
       "    }\n",
       "\n",
       "    .dataframe thead th {\n",
       "        text-align: right;\n",
       "    }\n",
       "</style>\n",
       "<table border=\"1\" class=\"dataframe\">\n",
       "  <thead>\n",
       "    <tr style=\"text-align: right;\">\n",
       "      <th></th>\n",
       "      <th>Date</th>\n",
       "      <th>CustomerID</th>\n",
       "      <th>Product</th>\n",
       "      <th>Quantity</th>\n",
       "      <th>Price</th>\n",
       "    </tr>\n",
       "  </thead>\n",
       "  <tbody>\n",
       "    <tr>\n",
       "      <th>0</th>\n",
       "      <td>2023-04-13</td>\n",
       "      <td>C0402</td>\n",
       "      <td>Phone</td>\n",
       "      <td>3</td>\n",
       "      <td>1718.34</td>\n",
       "    </tr>\n",
       "    <tr>\n",
       "      <th>1</th>\n",
       "      <td>2023-12-15</td>\n",
       "      <td>C0606</td>\n",
       "      <td>Camera</td>\n",
       "      <td>1</td>\n",
       "      <td>1545.59</td>\n",
       "    </tr>\n",
       "    <tr>\n",
       "      <th>2</th>\n",
       "      <td>2023-09-28</td>\n",
       "      <td>C0229</td>\n",
       "      <td>Monitor</td>\n",
       "      <td>5</td>\n",
       "      <td>1846.37</td>\n",
       "    </tr>\n",
       "    <tr>\n",
       "      <th>3</th>\n",
       "      <td>2023-04-17</td>\n",
       "      <td>C0537</td>\n",
       "      <td>Laptop</td>\n",
       "      <td>4</td>\n",
       "      <td>193.12</td>\n",
       "    </tr>\n",
       "    <tr>\n",
       "      <th>4</th>\n",
       "      <td>2023-03-13</td>\n",
       "      <td>C0268</td>\n",
       "      <td>Camera</td>\n",
       "      <td>1</td>\n",
       "      <td>195.23</td>\n",
       "    </tr>\n",
       "  </tbody>\n",
       "</table>\n",
       "</div>"
      ]
     },
     "execution_count": 62,
     "metadata": {},
     "output_type": "execute_result"
    }
   ],
   "execution_count": 62
  },
  {
   "metadata": {
    "ExecuteTime": {
     "end_time": "2025-04-26T17:31:38.209755Z",
     "start_time": "2025-04-26T17:31:38.198438Z"
    }
   },
   "cell_type": "code",
   "source": "df.info()",
   "id": "90fd19848feb8cf7",
   "outputs": [
    {
     "name": "stdout",
     "output_type": "stream",
     "text": [
      "<class 'pandas.core.frame.DataFrame'>\n",
      "RangeIndex: 10000 entries, 0 to 9999\n",
      "Data columns (total 5 columns):\n",
      " #   Column      Non-Null Count  Dtype  \n",
      "---  ------      --------------  -----  \n",
      " 0   Date        10000 non-null  object \n",
      " 1   CustomerID  10000 non-null  object \n",
      " 2   Product     10000 non-null  object \n",
      " 3   Quantity    10000 non-null  int64  \n",
      " 4   Price       10000 non-null  float64\n",
      "dtypes: float64(1), int64(1), object(3)\n",
      "memory usage: 390.8+ KB\n"
     ]
    }
   ],
   "execution_count": 63
  },
  {
   "metadata": {
    "ExecuteTime": {
     "end_time": "2025-04-26T17:31:38.335795Z",
     "start_time": "2025-04-26T17:31:38.319864Z"
    }
   },
   "cell_type": "code",
   "source": "df.describe()",
   "id": "cbef5302a75cccbd",
   "outputs": [
    {
     "data": {
      "text/plain": [
       "           Quantity         Price\n",
       "count  10000.000000  10000.000000\n",
       "mean       3.039000   1545.090981\n",
       "std        1.423545    836.191175\n",
       "min        1.000000    100.020000\n",
       "25%        2.000000    816.402500\n",
       "50%        3.000000   1550.960000\n",
       "75%        4.000000   2265.417500\n",
       "max        5.000000   2999.390000"
      ],
      "text/html": [
       "<div>\n",
       "<style scoped>\n",
       "    .dataframe tbody tr th:only-of-type {\n",
       "        vertical-align: middle;\n",
       "    }\n",
       "\n",
       "    .dataframe tbody tr th {\n",
       "        vertical-align: top;\n",
       "    }\n",
       "\n",
       "    .dataframe thead th {\n",
       "        text-align: right;\n",
       "    }\n",
       "</style>\n",
       "<table border=\"1\" class=\"dataframe\">\n",
       "  <thead>\n",
       "    <tr style=\"text-align: right;\">\n",
       "      <th></th>\n",
       "      <th>Quantity</th>\n",
       "      <th>Price</th>\n",
       "    </tr>\n",
       "  </thead>\n",
       "  <tbody>\n",
       "    <tr>\n",
       "      <th>count</th>\n",
       "      <td>10000.000000</td>\n",
       "      <td>10000.000000</td>\n",
       "    </tr>\n",
       "    <tr>\n",
       "      <th>mean</th>\n",
       "      <td>3.039000</td>\n",
       "      <td>1545.090981</td>\n",
       "    </tr>\n",
       "    <tr>\n",
       "      <th>std</th>\n",
       "      <td>1.423545</td>\n",
       "      <td>836.191175</td>\n",
       "    </tr>\n",
       "    <tr>\n",
       "      <th>min</th>\n",
       "      <td>1.000000</td>\n",
       "      <td>100.020000</td>\n",
       "    </tr>\n",
       "    <tr>\n",
       "      <th>25%</th>\n",
       "      <td>2.000000</td>\n",
       "      <td>816.402500</td>\n",
       "    </tr>\n",
       "    <tr>\n",
       "      <th>50%</th>\n",
       "      <td>3.000000</td>\n",
       "      <td>1550.960000</td>\n",
       "    </tr>\n",
       "    <tr>\n",
       "      <th>75%</th>\n",
       "      <td>4.000000</td>\n",
       "      <td>2265.417500</td>\n",
       "    </tr>\n",
       "    <tr>\n",
       "      <th>max</th>\n",
       "      <td>5.000000</td>\n",
       "      <td>2999.390000</td>\n",
       "    </tr>\n",
       "  </tbody>\n",
       "</table>\n",
       "</div>"
      ]
     },
     "execution_count": 64,
     "metadata": {},
     "output_type": "execute_result"
    }
   ],
   "execution_count": 64
  },
  {
   "metadata": {},
   "cell_type": "markdown",
   "source": "# 3- Preprocessing Data",
   "id": "9d10e6a5cd222f21"
  },
  {
   "metadata": {
    "ExecuteTime": {
     "end_time": "2025-04-26T17:31:38.452960Z",
     "start_time": "2025-04-26T17:31:38.442520Z"
    }
   },
   "cell_type": "code",
   "source": [
    "# Changing \"Date\" format to datetime\n",
    "df[\"Date\"] = pd.to_datetime(df[\"Date\"])"
   ],
   "id": "b3529913c98ca5d6",
   "outputs": [],
   "execution_count": 65
  },
  {
   "metadata": {
    "ExecuteTime": {
     "end_time": "2025-04-26T17:31:38.549357Z",
     "start_time": "2025-04-26T17:31:38.534257Z"
    }
   },
   "cell_type": "code",
   "source": [
    "# Memory Usage Reduction For \"Quantity\" and \"Price\"\n",
    "df[\"Quantity\"] = df[\"Quantity\"].astype(\"uint8\")\n",
    "\n",
    "df[\"Price\"] = df[\"Price\"].astype(\"float32\")\n",
    "\n",
    "df.info()"
   ],
   "id": "cdebfacc924b2aef",
   "outputs": [
    {
     "name": "stdout",
     "output_type": "stream",
     "text": [
      "<class 'pandas.core.frame.DataFrame'>\n",
      "RangeIndex: 10000 entries, 0 to 9999\n",
      "Data columns (total 5 columns):\n",
      " #   Column      Non-Null Count  Dtype         \n",
      "---  ------      --------------  -----         \n",
      " 0   Date        10000 non-null  datetime64[ns]\n",
      " 1   CustomerID  10000 non-null  object        \n",
      " 2   Product     10000 non-null  object        \n",
      " 3   Quantity    10000 non-null  uint8         \n",
      " 4   Price       10000 non-null  float32       \n",
      "dtypes: datetime64[ns](1), float32(1), object(2), uint8(1)\n",
      "memory usage: 283.3+ KB\n"
     ]
    }
   ],
   "execution_count": 66
  },
  {
   "metadata": {
    "ExecuteTime": {
     "end_time": "2025-04-26T17:31:38.631163Z",
     "start_time": "2025-04-26T17:31:38.612080Z"
    }
   },
   "cell_type": "code",
   "source": [
    "# Add Total Price\n",
    "df[\"Total\"] = df[\"Quantity\"] * df[\"Price\"]\n",
    "df[\"Total\"] = df[\"Total\"].astype(\"float32\")"
   ],
   "id": "236fb49e02fa0607",
   "outputs": [],
   "execution_count": 67
  },
  {
   "metadata": {
    "ExecuteTime": {
     "end_time": "2025-04-26T17:31:38.700133Z",
     "start_time": "2025-04-26T17:31:38.686334Z"
    }
   },
   "cell_type": "code",
   "source": [
    "# Add Month\n",
    "df[\"Month\"] = df[\"Date\"].dt.month\n",
    "df[\"Month\"] = df[\"Month\"].astype(\"uint8\")\n",
    "\n",
    "df.info()"
   ],
   "id": "5f4a5a027bc6607c",
   "outputs": [
    {
     "name": "stdout",
     "output_type": "stream",
     "text": [
      "<class 'pandas.core.frame.DataFrame'>\n",
      "RangeIndex: 10000 entries, 0 to 9999\n",
      "Data columns (total 7 columns):\n",
      " #   Column      Non-Null Count  Dtype         \n",
      "---  ------      --------------  -----         \n",
      " 0   Date        10000 non-null  datetime64[ns]\n",
      " 1   CustomerID  10000 non-null  object        \n",
      " 2   Product     10000 non-null  object        \n",
      " 3   Quantity    10000 non-null  uint8         \n",
      " 4   Price       10000 non-null  float32       \n",
      " 5   Total       10000 non-null  float32       \n",
      " 6   Month       10000 non-null  uint8         \n",
      "dtypes: datetime64[ns](1), float32(2), object(2), uint8(2)\n",
      "memory usage: 332.2+ KB\n"
     ]
    }
   ],
   "execution_count": 68
  },
  {
   "metadata": {},
   "cell_type": "markdown",
   "source": "# 4- Initial Analysis",
   "id": "a42aafb6ba3482d"
  },
  {
   "metadata": {
    "ExecuteTime": {
     "end_time": "2025-04-26T17:31:38.761116Z",
     "start_time": "2025-04-26T17:31:38.748911Z"
    }
   },
   "cell_type": "code",
   "source": [
    "# Total Sale Of Each Product\n",
    "product_sale = df.groupby(\"Product\")[\"Total\"].sum()\n",
    "product_sale.sort_values(ascending=False, inplace=True)\n",
    "product_sale"
   ],
   "id": "b42f34107d72b044",
   "outputs": [
    {
     "data": {
      "text/plain": [
       "Product\n",
       "Monitor    8087398.0\n",
       "Tablet     8011582.5\n",
       "Phone      7848142.5\n",
       "Camera     7826121.5\n",
       "Printer    7644930.5\n",
       "Laptop     7541670.0\n",
       "Name: Total, dtype: float32"
      ]
     },
     "execution_count": 69,
     "metadata": {},
     "output_type": "execute_result"
    }
   ],
   "execution_count": 69
  },
  {
   "metadata": {
    "ExecuteTime": {
     "end_time": "2025-04-26T17:31:38.819260Z",
     "start_time": "2025-04-26T17:31:38.806765Z"
    }
   },
   "cell_type": "code",
   "source": [
    "# Total Sale In Every Month\n",
    "month_sale = df.groupby(\"Month\")[\"Total\"].sum()\n",
    "month_sale.sort_values(ascending=False, inplace=True)\n",
    "month_sale"
   ],
   "id": "6e263f84982162e3",
   "outputs": [
    {
     "data": {
      "text/plain": [
       "Month\n",
       "7     4149552.50\n",
       "4     4114146.25\n",
       "1     4059818.25\n",
       "11    4041805.75\n",
       "3     4004813.25\n",
       "5     4003173.00\n",
       "8     3996552.00\n",
       "6     3928739.75\n",
       "10    3805844.75\n",
       "12    3801750.75\n",
       "9     3561006.25\n",
       "2     3492642.50\n",
       "Name: Total, dtype: float32"
      ]
     },
     "execution_count": 70,
     "metadata": {},
     "output_type": "execute_result"
    }
   ],
   "execution_count": 70
  },
  {
   "metadata": {
    "ExecuteTime": {
     "end_time": "2025-04-26T17:31:38.918859Z",
     "start_time": "2025-04-26T17:31:38.907018Z"
    }
   },
   "cell_type": "code",
   "source": [
    "# Top 10 Customer With Most Purchase\n",
    "top_customers = df.groupby(\"CustomerID\")[\"Total\"].sum()\n",
    "top_customers.sort_values(ascending=False, inplace=True)\n",
    "top_customers[:10]"
   ],
   "id": "798341304803a5e0",
   "outputs": [
    {
     "data": {
      "text/plain": [
       "CustomerID\n",
       "C0783    97795.734375\n",
       "C0095    90550.960938\n",
       "C0450    86353.640625\n",
       "C1297    82846.015625\n",
       "C0762    82205.093750\n",
       "C1101    81056.210938\n",
       "C1487    79161.875000\n",
       "C0434    75054.023438\n",
       "C0601    75046.640625\n",
       "C0984    75029.968750\n",
       "Name: Total, dtype: float32"
      ]
     },
     "execution_count": 71,
     "metadata": {},
     "output_type": "execute_result"
    }
   ],
   "execution_count": 71
  },
  {
   "metadata": {},
   "cell_type": "markdown",
   "source": "# 5- Visualization",
   "id": "c8487d3f205cb3ad"
  },
  {
   "metadata": {
    "ExecuteTime": {
     "end_time": "2025-04-26T17:31:39.172929Z",
     "start_time": "2025-04-26T17:31:39.023292Z"
    }
   },
   "cell_type": "code",
   "source": [
    "# Top 5 of Most Sold Product\n",
    "sns.barplot(product_sale[:5])\n",
    "plt.title(\"Most Sold Product\")\n",
    "plt.ylabel(\"Total Sale\")\n",
    "plt.show()"
   ],
   "id": "26a7de25581e5fbe",
   "outputs": [
    {
     "data": {
      "text/plain": [
       "<Figure size 640x480 with 1 Axes>"
      ],
      "image/png": "[encoded data removed]"
     },
     "metadata": {},
     "output_type": "display_data"
    }
   ],
   "execution_count": 72
  },
  {
   "metadata": {
    "ExecuteTime": {
     "end_time": "2025-04-26T17:31:39.354014Z",
     "start_time": "2025-04-26T17:31:39.211188Z"
    }
   },
   "cell_type": "code",
   "source": [
    "# Month Sale Plot\n",
    "sns.lineplot(month_sale)\n",
    "plt.title(\"Month Sale\")\n",
    "plt.ylabel(\"Total Sale\")\n",
    "plt.show()"
   ],
   "id": "e298b89e54de13b0",
   "outputs": [
    {
     "data": {
      "text/plain": [
       "<Figure size 640x480 with 1 Axes>"
      ],
      "image/png": "[encoded data removed]"
     },
     "metadata": {},
     "output_type": "display_data"
    }
   ],
   "execution_count": 73
  },
  {
   "metadata": {
    "ExecuteTime": {
     "end_time": "2025-04-26T17:31:39.562216Z",
     "start_time": "2025-04-26T17:31:39.374674Z"
    }
   },
   "cell_type": "code",
   "source": [
    "# Correlations heatmap\n",
    "sns.heatmap(df.corr(numeric_only=True), annot=True, cmap=\"YlGnBu\", fmt=\".2f\")"
   ],
   "id": "77fffc12e779641",
   "outputs": [
    {
     "data": {
      "text/plain": [
       "<Axes: >"
      ]
     },
     "execution_count": 74,
     "metadata": {},
     "output_type": "execute_result"
    },
    {
     "data": {
      "text/plain": [
       "<Figure size 640x480 with 2 Axes>"
      ],
      "image/png": "[encoded data removed]"
     },
     "metadata": {},
     "output_type": "display_data"
    }
   ],
   "execution_count": 74
  },
  {
   "metadata": {},
   "cell_type": "markdown",
   "source": "# 6- Advanced Analysis",
   "id": "733b97dd929747d1"
  },
  {
   "metadata": {
    "ExecuteTime": {
     "end_time": "2025-04-26T17:46:35.183042Z",
     "start_time": "2025-04-26T17:46:35.055820Z"
    }
   },
   "cell_type": "code",
   "source": [
    "# Price Status For Each Product\n",
    "price_bonds = df.groupby(\"Product\")[\"Price\"].quantile([0.25, 0.75]).unstack()\n",
    "price_bonds.columns = [\"Q1\", \"Q3\"]\n",
    "\n",
    "df_copy = df.merge(price_bonds, on=\"Product\", how=\"left\")\n",
    "\n",
    "\n",
    "def price_status(rec):\n",
    "    if rec[\"Price\"] > rec[\"Q3\"]:\n",
    "        return \"High\"\n",
    "    elif rec[\"Price\"] < rec[\"Q1\"]:\n",
    "        return \"Low\"\n",
    "    else:\n",
    "        return \"Normal\"\n",
    "\n",
    "\n",
    "df[\"PriceStatus\"] = df_copy.apply(price_status, axis=1)\n",
    "\n",
    "df.head()"
   ],
   "id": "e5eefc568d09e463",
   "outputs": [
    {
     "data": {
      "text/plain": [
       "        Date CustomerID  Product  Quantity        Price        Total  Month  \\\n",
       "0 2023-04-13      C0402    Phone         3  1718.339966  5155.020020      4   \n",
       "1 2023-12-15      C0606   Camera         1  1545.589966  1545.589966     12   \n",
       "2 2023-09-28      C0229  Monitor         5  1846.369995  9231.849609      9   \n",
       "3 2023-04-17      C0537   Laptop         4   193.119995   772.479980      4   \n",
       "4 2023-03-13      C0268   Camera         1   195.229996   195.229996      3   \n",
       "\n",
       "  PriceStatus  \n",
       "0      Normal  \n",
       "1      Normal  \n",
       "2      Normal  \n",
       "3         Low  \n",
       "4         Low  "
      ],
      "text/html": [
       "<div>\n",
       "<style scoped>\n",
       "    .dataframe tbody tr th:only-of-type {\n",
       "        vertical-align: middle;\n",
       "    }\n",
       "\n",
       "    .dataframe tbody tr th {\n",
       "        vertical-align: top;\n",
       "    }\n",
       "\n",
       "    .dataframe thead th {\n",
       "        text-align: right;\n",
       "    }\n",
       "</style>\n",
       "<table border=\"1\" class=\"dataframe\">\n",
       "  <thead>\n",
       "    <tr style=\"text-align: right;\">\n",
       "      <th></th>\n",
       "      <th>Date</th>\n",
       "      <th>CustomerID</th>\n",
       "      <th>Product</th>\n",
       "      <th>Quantity</th>\n",
       "      <th>Price</th>\n",
       "      <th>Total</th>\n",
       "      <th>Month</th>\n",
       "      <th>PriceStatus</th>\n",
       "    </tr>\n",
       "  </thead>\n",
       "  <tbody>\n",
       "    <tr>\n",
       "      <th>0</th>\n",
       "      <td>2023-04-13</td>\n",
       "      <td>C0402</td>\n",
       "      <td>Phone</td>\n",
       "      <td>3</td>\n",
       "      <td>1718.339966</td>\n",
       "      <td>5155.020020</td>\n",
       "      <td>4</td>\n",
       "      <td>Normal</td>\n",
       "    </tr>\n",
       "    <tr>\n",
       "      <th>1</th>\n",
       "      <td>2023-12-15</td>\n",
       "      <td>C0606</td>\n",
       "      <td>Camera</td>\n",
       "      <td>1</td>\n",
       "      <td>1545.589966</td>\n",
       "      <td>1545.589966</td>\n",
       "      <td>12</td>\n",
       "      <td>Normal</td>\n",
       "    </tr>\n",
       "    <tr>\n",
       "      <th>2</th>\n",
       "      <td>2023-09-28</td>\n",
       "      <td>C0229</td>\n",
       "      <td>Monitor</td>\n",
       "      <td>5</td>\n",
       "      <td>1846.369995</td>\n",
       "      <td>9231.849609</td>\n",
       "      <td>9</td>\n",
       "      <td>Normal</td>\n",
       "    </tr>\n",
       "    <tr>\n",
       "      <th>3</th>\n",
       "      <td>2023-04-17</td>\n",
       "      <td>C0537</td>\n",
       "      <td>Laptop</td>\n",
       "      <td>4</td>\n",
       "      <td>193.119995</td>\n",
       "      <td>772.479980</td>\n",
       "      <td>4</td>\n",
       "      <td>Low</td>\n",
       "    </tr>\n",
       "    <tr>\n",
       "      <th>4</th>\n",
       "      <td>2023-03-13</td>\n",
       "      <td>C0268</td>\n",
       "      <td>Camera</td>\n",
       "      <td>1</td>\n",
       "      <td>195.229996</td>\n",
       "      <td>195.229996</td>\n",
       "      <td>3</td>\n",
       "      <td>Low</td>\n",
       "    </tr>\n",
       "  </tbody>\n",
       "</table>\n",
       "</div>"
      ]
     },
     "execution_count": 94,
     "metadata": {},
     "output_type": "execute_result"
    }
   ],
   "execution_count": 94
  },
  {
   "metadata": {
    "ExecuteTime": {
     "end_time": "2025-04-26T18:03:50.087660Z",
     "start_time": "2025-04-26T18:03:50.068481Z"
    }
   },
   "cell_type": "code",
   "source": [
    "# Customers With More Than 10 Purchases\n",
    "pur_count = df.groupby(\"CustomerID\")[\"Quantity\"].sum()\n",
    "pur_count.sort_values(ascending=False, inplace=True)\n",
    "pur_count[pur_count > 10]"
   ],
   "id": "ac5368ff6e0bee96",
   "outputs": [
    {
     "data": {
      "text/plain": [
       "CustomerID\n",
       "C0599    48\n",
       "C1170    48\n",
       "C1101    47\n",
       "C1301    47\n",
       "C1480    46\n",
       "         ..\n",
       "C0216    11\n",
       "C0237    11\n",
       "C0394    11\n",
       "C1011    11\n",
       "C0070    11\n",
       "Name: Quantity, Length: 1333, dtype: uint8"
      ]
     },
     "execution_count": 102,
     "metadata": {},
     "output_type": "execute_result"
    }
   ],
   "execution_count": 102
  },
  {
   "metadata": {},
   "cell_type": "code",
   "outputs": [],
   "execution_count": null,
   "source": "",
   "id": "de48a6dcef74623"
  }
 ],
 "metadata": {
  "kernelspec": {
   "display_name": "Python 3",
   "language": "python",
   "name": "python3"
  },
  "language_info": {
   "codemirror_mode": {
    "name": "ipython",
    "version": 2
   },
   "file_extension": ".py",
   "mimetype": "text/x-python",
   "name": "python",
   "nbconvert_exporter": "python",
   "pygments_lexer": "ipython2",
   "version": "2.7.6"
  }
 },
 "nbformat": 4,
 "nbformat_minor": 5
}
